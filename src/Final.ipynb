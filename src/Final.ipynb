{
 "cells": [
  {
   "cell_type": "markdown",
   "metadata": {
    "pycharm": {
     "name": "#%% md\n"
    }
   },
   "source": [
    "###  Dataset\n",
    "---\n",
    "We used this [face dataset](https://www.kaggle.com/c/challenges-in-representation-learning-facial-expression-recognition-challenge/data) which consists of 48x48 grayscale images of faces with labels in one of 7 categories: 0=Angry, 1=Disgust, 2=Fear, 3=Happy, 4=Sad, 5=Surprise, 6=Neutral.\n",
    "\n",
    "An example of a face in this dataset:\n",
    "<img src = Images/ExampleFace.jpg alt = \"Example Face\" width =200>\n"
   ]
  },
  {
   "cell_type": "code",
   "execution_count": 40,
   "metadata": {
    "pycharm": {
     "name": "#%%\n"
    }
   },
   "outputs": [],
   "source": [
    "#imports\n",
    "import random\n",
    "import numpy as np\n",
    "import pandas as pd\n",
    "from sklearn.model_selection import train_test_split\n",
    "from sklearn.preprocessing import StandardScaler, MinMaxScaler\n",
    "from sklearn.decomposition import PCA, NMF, KernelPCA\n",
    "from sklearn.linear_model import LogisticRegression\n",
    "from sklearn.pipeline import Pipeline\n",
    "from sklearn.metrics import confusion_matrix, classification_report\n",
    "from sklearn.model_selection import GridSearchCV\n",
    "from sklearn.svm import LinearSVC\n",
    "from sklearn.neural_network import MLPClassifier\n",
    "from sklearn.ensemble import RandomForestClassifier\n",
    "from sklearn.neighbors import KNeighborsClassifier\n",
    "from PIL import Image\n",
    "import matplotlib.pyplot as plt\n",
    "import pickle"
   ]
  },
  {
   "cell_type": "code",
   "execution_count": 2,
   "metadata": {},
   "outputs": [],
   "source": [
    "# fix random seed for reproducibility\n",
    "seed = 42\n",
    "random.seed(seed)\n",
    "np.random.seed(seed)"
   ]
  },
  {
   "cell_type": "code",
   "execution_count": 75,
   "metadata": {},
   "outputs": [],
   "source": [
    "# call this function to load all models and data from disk\n",
    "def load_everything(datapath):\n",
    "    x_train_sc = pickle.load(open(datapath + \"x_train_sc.pkl\", 'rb'))\n",
    "    x_test_sc = pickle.load(open(datapath + \"x_test_sc.pkl\", 'rb'))\n",
    "    y_test = pickle.load(open(datapath + \"y_test.pkl\", 'rb'))\n",
    "    pca = pickle.load(open(datapath + \"pca.pkl\", 'rb'))\n",
    "    x_train_pca = pickle.load(open(datapath + \"x_train_pca.pkl\", 'rb'))\n",
    "    x_test_pca = pickle.load(open(datapath + \"x_test_pca.pkl\", 'rb'))\n",
    "    nmf = pickle.load(open(datapath + \"nmf.pkl\", 'rb'))\n",
    "    x_train_nmf = pickle.load(open(datapath + \"x_train_nmf.pkl\", 'rb'))\n",
    "    x_test_nmf = pickle.load(open(datapath + \"x_test_nmf.pkl\", 'rb'))\n",
    "    kpca = pickle.load(open(datapath + \"kpca.pkl\", 'rb'))\n",
    "    x_train_kpca = pickle.load(open(datapath + \"x_train_kpca.pkl\", 'rb'))\n",
    "    x_test_kpca = pickle.load(open(datapath + \"x_test_kpca.pkl\", 'rb'))\n",
    "    # load models\n",
    "    lrc_pca = pickle.load(open(datapath + \"lrc_pca.pkl\", 'rb'))\n",
    "    lrc_nmf = pickle.load(open(datapath + \"lrc_nmf.pkl\", 'rb'))\n",
    "    lrc_kpca = pickle.load(open(datapath + \"lrc_kpca.pkl\", 'rb'))\n",
    "    svc_pca = pickle.load(open(datapath + \"svc_pca.pkl\", 'rb'))\n",
    "    svc_nmf = pickle.load(open(datapath + \"svc_nmf.pkl\", 'rb'))\n",
    "    svc_kpca = pickle.load(open(datapath + \"svc_kpca.pkl\", 'rb'))\n",
    "    mlp_pca = pickle.load(open(datapath + \"mlp_pca.pkl\", 'rb'))\n",
    "    mlp_nmf = pickle.load(open(datapath + \"mlp_nmf.pkl\", 'rb'))\n",
    "    mlp_kpca = pickle.load(open(datapath + \"mlp_kpca.pkl\", 'rb'))\n",
    "    rfc_pca = pickle.load(open(datapath + \"rfc_pca.pkl\", 'rb'))\n",
    "    rfc_nmf = pickle.load(open(datapath + \"rfc_nmf.pkl\", 'rb'))\n",
    "    rfc_kpca = pickle.load(open(datapath + \"rfc_kpca.pkl\", 'rb'))\n",
    "    knc_pca = pickle.load(open(datapath + \"knc_pca.pkl\", 'rb'))\n",
    "    knc_nmf = pickle.load(open(datapath + \"knc_nmf.pkl\", 'rb'))\n",
    "    knc_kpca = pickle.load(open(datapath + \"knc_kpca.pkl\", 'rb'))\n",
    "    \n",
    "    return x_train_sc, x_test_sc, y_test, pca, x_train_pca, x_test_pca, nmf, x_train_nmf, x_test_nmf, \\\n",
    "            kpca, x_train_kpca, x_test_kpca, lrc_pca, lrc_nmf, lrc_kpca, svc_pca, svc_nmf, svc_kpca, \\\n",
    "            mlp_pca, mlp_nmf, mlp_kpca, rfc_pca, rfc_nmf, rfc_kpca, knc_pca, knc_nmf, knc_kpca"
   ]
  },
  {
   "cell_type": "code",
   "execution_count": 76,
   "metadata": {},
   "outputs": [],
   "source": [
    "# uncomment this code to load models and data from disk, make sure to pass correct directory path to load_everything function\n",
    "# x_train_sc, x_test_sc, y_test, pca, x_train_pca, x_test_pca, nmf, x_train_nmf, x_test_nmf, \\\n",
    "# kpca, x_train_kpca, x_test_kpca, lrc_pca, lrc_nmf, lrc_kpca, svc_pca, svc_nmf, svc_kpca, \\\n",
    "# mlp_pca, mlp_nmf, mlp_kpca, rfc_pca, rfc_nmf, rfc_kpca, knc_pca, knc_nmf, knc_kpca = load_everything(\"../data/processed/\")"
   ]
  },
  {
   "cell_type": "code",
   "execution_count": 3,
   "metadata": {
    "pycharm": {
     "name": "#%%\n"
    }
   },
   "outputs": [
    {
     "name": "stdout",
     "output_type": "stream",
     "text": [
      "Training Components: 26915\n",
      "Test Components: 8972\n"
     ]
    }
   ],
   "source": [
    "# reading and cleaning data\n",
    "total = pd.read_csv('../data/raw/icml_face_data.csv')\n",
    "total = total.drop(columns = [' Usage'])\n",
    "\n",
    "total_y = total['emotion']\n",
    "total_x = total[' pixels'].str.split(' ',expand=True).astype(dtype = 'uint8')\n",
    "\n",
    "x_train, x_test, y_train, y_test  = train_test_split(total_x, total_y, test_size=0.25, random_state=42)\n",
    "\n",
    "print(\"Training Components: \"+ str(y_train.size))\n",
    "print(\"Test Components: \"+ str(y_test.size))"
   ]
  },
  {
   "cell_type": "code",
   "execution_count": 4,
   "metadata": {
    "pycharm": {
     "name": "#%%\n"
    }
   },
   "outputs": [],
   "source": [
    "# fitting data\n",
    "sc = MinMaxScaler()\n",
    "\n",
    "x_train_sc = sc.fit_transform(x_train)\n",
    "x_test_sc = sc.transform(x_test)\n"
   ]
  },
  {
   "cell_type": "markdown",
   "metadata": {
    "pycharm": {
     "name": "#%% md\n"
    }
   },
   "source": [
    "###  PCA"
   ]
  },
  {
   "cell_type": "code",
   "execution_count": 5,
   "metadata": {
    "pycharm": {
     "is_executing": true,
     "name": "#%%\n"
    }
   },
   "outputs": [],
   "source": [
    "# applying pca\n",
    "\n",
    "pca = PCA(n_components=255).fit(x_train_sc) #n_components = (255 explains 95%) (881 explains 99%)\n",
    "x_train_pca = pca.transform(x_train_sc)\n",
    "x_test_pca = pca.transform(x_test_sc)\n",
    "\n",
    "explained_variance = pca.explained_variance_ratio_"
   ]
  },
  {
   "cell_type": "markdown",
   "metadata": {},
   "source": [
    "### NMF"
   ]
  },
  {
   "cell_type": "code",
   "execution_count": 6,
   "metadata": {},
   "outputs": [
    {
     "name": "stderr",
     "output_type": "stream",
     "text": [
      "/data/code/bsrikish/linalg/my_venv/lib/python3.7/site-packages/sklearn/decomposition/_nmf.py:1091: ConvergenceWarning: Maximum number of iterations 200 reached. Increase it to improve convergence.\n",
      "  \" improve convergence.\" % max_iter, ConvergenceWarning)\n",
      "/data/code/bsrikish/linalg/my_venv/lib/python3.7/site-packages/sklearn/decomposition/_nmf.py:1091: ConvergenceWarning: Maximum number of iterations 200 reached. Increase it to improve convergence.\n",
      "  \" improve convergence.\" % max_iter, ConvergenceWarning)\n"
     ]
    }
   ],
   "source": [
    "# apply nmf\n",
    "nmf = NMF(n_components=255, init='nndsvd', random_state=seed)\n",
    "x_train_nmf = nmf.fit_transform(x_train_sc)\n",
    "x_test_nmf = nmf.transform(x_test_sc)\n",
    "H = nmf.components_"
   ]
  },
  {
   "cell_type": "markdown",
   "metadata": {},
   "source": [
    "### Kernel PCA"
   ]
  },
  {
   "cell_type": "code",
   "execution_count": 7,
   "metadata": {},
   "outputs": [],
   "source": [
    "kpca = KernelPCA(n_components=7, kernel='rbf', random_state=seed)\n",
    "x_train_kpca = kpca.fit_transform(x_train_sc)\n",
    "x_test_kpca = kpca.transform(x_test_sc)"
   ]
  },
  {
   "cell_type": "markdown",
   "metadata": {},
   "source": [
    "### Logistic Regression Results"
   ]
  },
  {
   "cell_type": "code",
   "execution_count": 41,
   "metadata": {
    "pycharm": {
     "name": "#%%\n"
    }
   },
   "outputs": [
    {
     "name": "stdout",
     "output_type": "stream",
     "text": [
      "[[ 193    4  105  411  247   80  195]\n",
      " [  16    6   27   37   18    9   17]\n",
      " [ 116    3  187  401  221  175  201]\n",
      " [ 106    1   93 1543  240  102  163]\n",
      " [ 149    2  109  448  428   80  283]\n",
      " [  38    2  112  212   74  446  106]\n",
      " [  89    2   86  482  271  109  527]]\n",
      "              precision    recall  f1-score   support\n",
      "\n",
      "           0       0.27      0.16      0.20      1235\n",
      "           1       0.30      0.05      0.08       130\n",
      "           2       0.26      0.14      0.18      1304\n",
      "           3       0.44      0.69      0.53      2248\n",
      "           4       0.29      0.29      0.29      1499\n",
      "           5       0.45      0.45      0.45       990\n",
      "           6       0.35      0.34      0.34      1566\n",
      "\n",
      "    accuracy                           0.37      8972\n",
      "   macro avg       0.34      0.30      0.30      8972\n",
      "weighted avg       0.35      0.37      0.35      8972\n",
      "\n"
     ]
    }
   ],
   "source": [
    "# logistic regression on pca representation\n",
    "lrc_pca = LogisticRegression(C=1.0, penalty = 'l2', solver = 'saga', tol=0.0001, max_iter=800, random_state=seed)\n",
    "lrc_pca.fit(x_train_pca, y_train)\n",
    "predictions_lrc_pca = lrc_pca.predict(x_test_pca)\n",
    "\n",
    "print(confusion_matrix(y_test, predictions_lrc_pca))\n",
    "print(classification_report(y_test, predictions_lrc_pca, zero_division=0))"
   ]
  },
  {
   "cell_type": "code",
   "execution_count": 44,
   "metadata": {},
   "outputs": [
    {
     "name": "stdout",
     "output_type": "stream",
     "text": [
      "[[ 123    0   64  507  269   91  181]\n",
      " [   9    0   15   56   23   11   16]\n",
      " [  75    0  119  492  255  171  192]\n",
      " [  51    0   71 1652  252   76  146]\n",
      " [  84    0   67  523  482   71  272]\n",
      " [  17    0   86  254  101  420  112]\n",
      " [  54    0   63  545  290   86  528]]\n",
      "              precision    recall  f1-score   support\n",
      "\n",
      "           0       0.30      0.10      0.15      1235\n",
      "           1       0.00      0.00      0.00       130\n",
      "           2       0.25      0.09      0.13      1304\n",
      "           3       0.41      0.73      0.53      2248\n",
      "           4       0.29      0.32      0.30      1499\n",
      "           5       0.45      0.42      0.44       990\n",
      "           6       0.36      0.34      0.35      1566\n",
      "\n",
      "    accuracy                           0.37      8972\n",
      "   macro avg       0.29      0.29      0.27      8972\n",
      "weighted avg       0.34      0.37      0.33      8972\n",
      "\n"
     ]
    }
   ],
   "source": [
    "# logistic regression on nmf representation\n",
    "lrc_nmf = LogisticRegression(C=1.0, penalty = 'l2', solver = 'saga', tol=0.0001, max_iter=800, random_state=seed)\n",
    "lrc_nmf.fit(x_train_nmf, y_train)\n",
    "predictions_lrc_nmf = lrc_nmf.predict(x_test_nmf)\n",
    "\n",
    "print(confusion_matrix(y_test, predictions_lrc_nmf))\n",
    "print(classification_report(y_test, predictions_lrc_nmf, zero_division=0))"
   ]
  },
  {
   "cell_type": "code",
   "execution_count": 46,
   "metadata": {},
   "outputs": [
    {
     "name": "stdout",
     "output_type": "stream",
     "text": [
      "[[   4    0   11  932  182   65   41]\n",
      " [   2    0    4   93   12   13    6]\n",
      " [   7    0   15  966  155   97   64]\n",
      " [   5    0   24 1787  232  103   97]\n",
      " [   6    0    9 1097  273   44   70]\n",
      " [   1    0   14  744   40  152   39]\n",
      " [   1    0    7 1134  235   80  109]]\n",
      "              precision    recall  f1-score   support\n",
      "\n",
      "           0       0.15      0.00      0.01      1235\n",
      "           1       0.00      0.00      0.00       130\n",
      "           2       0.18      0.01      0.02      1304\n",
      "           3       0.26      0.79      0.40      2248\n",
      "           4       0.24      0.18      0.21      1499\n",
      "           5       0.27      0.15      0.20       990\n",
      "           6       0.26      0.07      0.11      1566\n",
      "\n",
      "    accuracy                           0.26      8972\n",
      "   macro avg       0.20      0.17      0.13      8972\n",
      "weighted avg       0.23      0.26      0.18      8972\n",
      "\n"
     ]
    }
   ],
   "source": [
    "# logistic regression on kernel pca representation\n",
    "lrc_kpca = LogisticRegression(C=1.0, penalty = 'l2', solver = 'saga', tol=0.0001, max_iter=800, random_state=seed)\n",
    "lrc_kpca.fit(x_train_kpca, y_train)\n",
    "predictions_lrc_kpca = lrc_kpca.predict(x_test_kpca)\n",
    "\n",
    "print(confusion_matrix(y_test, predictions_lrc_kpca))\n",
    "print(classification_report(y_test, predictions_lrc_kpca, zero_division=0))"
   ]
  },
  {
   "cell_type": "markdown",
   "metadata": {},
   "source": [
    "### Support Vector Machine Classifier Results"
   ]
  },
  {
   "cell_type": "code",
   "execution_count": 47,
   "metadata": {},
   "outputs": [
    {
     "name": "stdout",
     "output_type": "stream",
     "text": [
      "[[ 132    0   56  533  184  134  196]\n",
      " [  12    0   19   54   11   15   19]\n",
      " [  79    0  109  492  185  226  213]\n",
      " [  64    0   46 1696  183  116  143]\n",
      " [  95    0   56  577  342  122  307]\n",
      " [  18    0   54  247   72  501   98]\n",
      " [  61    0   41  593  210  155  506]]\n",
      "              precision    recall  f1-score   support\n",
      "\n",
      "           0       0.29      0.11      0.16      1235\n",
      "           1       0.00      0.00      0.00       130\n",
      "           2       0.29      0.08      0.13      1304\n",
      "           3       0.40      0.75      0.53      2248\n",
      "           4       0.29      0.23      0.25      1499\n",
      "           5       0.39      0.51      0.44       990\n",
      "           6       0.34      0.32      0.33      1566\n",
      "\n",
      "    accuracy                           0.37      8972\n",
      "   macro avg       0.29      0.29      0.26      8972\n",
      "weighted avg       0.33      0.37      0.32      8972\n",
      "\n"
     ]
    },
    {
     "name": "stderr",
     "output_type": "stream",
     "text": [
      "/data/code/bsrikish/linalg/my_venv/lib/python3.7/site-packages/sklearn/svm/_base.py:986: ConvergenceWarning: Liblinear failed to converge, increase the number of iterations.\n",
      "  \"the number of iterations.\", ConvergenceWarning)\n"
     ]
    }
   ],
   "source": [
    "# support vector machine on pca representation\n",
    "svc_pca = LinearSVC(random_state=seed)\n",
    "svc_pca.fit(x_train_pca, y_train)\n",
    "predictions_svc_pca = svc_pca.predict(x_test_pca)\n",
    "\n",
    "print(confusion_matrix(y_test, predictions_svc_pca))\n",
    "print(classification_report(y_test, predictions_svc_pca, zero_division=0))"
   ]
  },
  {
   "cell_type": "code",
   "execution_count": 48,
   "metadata": {},
   "outputs": [
    {
     "name": "stdout",
     "output_type": "stream",
     "text": [
      "[[ 110    0   36  547  229  133  180]\n",
      " [   7    0   14   58   19   14   18]\n",
      " [  66    0   97  502  238  204  197]\n",
      " [  51    0   41 1717  215   96  128]\n",
      " [  80    0   47  562  443  111  256]\n",
      " [  14    0   52  265   87  479   93]\n",
      " [  55    0   34  605  261  121  490]]\n",
      "              precision    recall  f1-score   support\n",
      "\n",
      "           0       0.29      0.09      0.14      1235\n",
      "           1       0.00      0.00      0.00       130\n",
      "           2       0.30      0.07      0.12      1304\n",
      "           3       0.40      0.76      0.53      2248\n",
      "           4       0.30      0.30      0.30      1499\n",
      "           5       0.41      0.48      0.45       990\n",
      "           6       0.36      0.31      0.33      1566\n",
      "\n",
      "    accuracy                           0.37      8972\n",
      "   macro avg       0.29      0.29      0.27      8972\n",
      "weighted avg       0.34      0.37      0.33      8972\n",
      "\n"
     ]
    }
   ],
   "source": [
    "# support vector machine on nmf representation\n",
    "svc_nmf = LinearSVC(random_state=seed)\n",
    "svc_nmf.fit(x_train_nmf, y_train)\n",
    "predictions_svc_nmf = svc_nmf.predict(x_test_nmf)\n",
    "\n",
    "print(confusion_matrix(y_test, predictions_svc_nmf))\n",
    "print(classification_report(y_test, predictions_svc_nmf, zero_division=0))"
   ]
  },
  {
   "cell_type": "code",
   "execution_count": 49,
   "metadata": {},
   "outputs": [
    {
     "name": "stdout",
     "output_type": "stream",
     "text": [
      "[[   1    0   12  965  180   39   38]\n",
      " [   0    0    3   94   15   11    7]\n",
      " [   3    0   12 1035  159   34   61]\n",
      " [   3    0   24 1861  233   51   76]\n",
      " [   3    0    9 1131  278   12   66]\n",
      " [   0    0   12  810   45   88   35]\n",
      " [   0    0    7 1198  236   25  100]]\n",
      "              precision    recall  f1-score   support\n",
      "\n",
      "           0       0.10      0.00      0.00      1235\n",
      "           1       0.00      0.00      0.00       130\n",
      "           2       0.15      0.01      0.02      1304\n",
      "           3       0.26      0.83      0.40      2248\n",
      "           4       0.24      0.19      0.21      1499\n",
      "           5       0.34      0.09      0.14       990\n",
      "           6       0.26      0.06      0.10      1566\n",
      "\n",
      "    accuracy                           0.26      8972\n",
      "   macro avg       0.19      0.17      0.12      8972\n",
      "weighted avg       0.23      0.26      0.17      8972\n",
      "\n"
     ]
    }
   ],
   "source": [
    "# support vector machine on kernel pca representation\n",
    "svc_kpca = LinearSVC(random_state=seed)\n",
    "svc_kpca.fit(x_train_kpca, y_train)\n",
    "predictions_svc_kpca = svc_kpca.predict(x_test_kpca)\n",
    "\n",
    "print(confusion_matrix(y_test, predictions_svc_kpca))\n",
    "print(classification_report(y_test, predictions_svc_kpca, zero_division=0))"
   ]
  },
  {
   "cell_type": "markdown",
   "metadata": {},
   "source": [
    "### MLP Results"
   ]
  },
  {
   "cell_type": "code",
   "execution_count": 50,
   "metadata": {},
   "outputs": [
    {
     "name": "stdout",
     "output_type": "stream",
     "text": [
      "[[ 377    9  166  212  216   78  177]\n",
      " [  19   54   12   16   16   10    3]\n",
      " [ 145   15  456  203  222  126  137]\n",
      " [ 177    5  159 1346  215   97  249]\n",
      " [ 196   12  201  248  518   83  241]\n",
      " [  69    2  107   91   59  589   73]\n",
      " [ 179    9  174  270  278   98  558]]\n",
      "              precision    recall  f1-score   support\n",
      "\n",
      "           0       0.32      0.31      0.31      1235\n",
      "           1       0.51      0.42      0.46       130\n",
      "           2       0.36      0.35      0.35      1304\n",
      "           3       0.56      0.60      0.58      2248\n",
      "           4       0.34      0.35      0.34      1499\n",
      "           5       0.54      0.59      0.57       990\n",
      "           6       0.39      0.36      0.37      1566\n",
      "\n",
      "    accuracy                           0.43      8972\n",
      "   macro avg       0.43      0.42      0.43      8972\n",
      "weighted avg       0.43      0.43      0.43      8972\n",
      "\n"
     ]
    }
   ],
   "source": [
    "# multilayer perceptron on pca representation\n",
    "mlp_pca = MLPClassifier(random_state=seed, hidden_layer_sizes=(500), max_iter=300)\n",
    "mlp_pca.fit(x_train_pca, y_train)\n",
    "predictions_mlp_pca = mlp_pca.predict(x_test_pca)\n",
    "\n",
    "print(confusion_matrix(y_test, predictions_mlp_pca))\n",
    "print(classification_report(y_test, predictions_mlp_pca, zero_division=0))"
   ]
  },
  {
   "cell_type": "code",
   "execution_count": 51,
   "metadata": {},
   "outputs": [
    {
     "name": "stderr",
     "output_type": "stream",
     "text": [
      "/data/code/bsrikish/linalg/my_venv/lib/python3.7/site-packages/sklearn/neural_network/_multilayer_perceptron.py:617: ConvergenceWarning: Stochastic Optimizer: Maximum iterations (300) reached and the optimization hasn't converged yet.\n",
      "  % self.max_iter, ConvergenceWarning)\n"
     ]
    },
    {
     "name": "stdout",
     "output_type": "stream",
     "text": [
      "[[ 375    9  175  212  173   56  235]\n",
      " [  24   43   14   16    8    9   16]\n",
      " [ 179   11  393  227  190  108  196]\n",
      " [ 189    9  139 1331  179   72  329]\n",
      " [ 231   13  186  269  429   66  305]\n",
      " [  62   10  111  115   57  526  109]\n",
      " [ 171   11  151  323  201   84  625]]\n",
      "              precision    recall  f1-score   support\n",
      "\n",
      "           0       0.30      0.30      0.30      1235\n",
      "           1       0.41      0.33      0.36       130\n",
      "           2       0.34      0.30      0.32      1304\n",
      "           3       0.53      0.59      0.56      2248\n",
      "           4       0.35      0.29      0.31      1499\n",
      "           5       0.57      0.53      0.55       990\n",
      "           6       0.34      0.40      0.37      1566\n",
      "\n",
      "    accuracy                           0.41      8972\n",
      "   macro avg       0.41      0.39      0.40      8972\n",
      "weighted avg       0.41      0.41      0.41      8972\n",
      "\n"
     ]
    }
   ],
   "source": [
    "# multilayer perceptron on nmf representation\n",
    "mlp_nmf = MLPClassifier(random_state=seed, hidden_layer_sizes=(500), max_iter=300)\n",
    "mlp_nmf.fit(x_train_nmf, y_train)\n",
    "predictions_mlp_nmf = mlp_nmf.predict(x_test_nmf)\n",
    "\n",
    "print(confusion_matrix(y_test, predictions_mlp_nmf))\n",
    "print(classification_report(y_test, predictions_mlp_nmf, zero_division=0))"
   ]
  },
  {
   "cell_type": "code",
   "execution_count": 52,
   "metadata": {},
   "outputs": [
    {
     "name": "stdout",
     "output_type": "stream",
     "text": [
      "[[ 115    0  100  405  307   96  212]\n",
      " [   8    0    7   59   18   19   19]\n",
      " [  74    0  171  450  297  136  176]\n",
      " [  92    0  142 1093  403  146  372]\n",
      " [  95    0   86  488  485   53  292]\n",
      " [  42    0  101  364  101  240  142]\n",
      " [  79    0   88  586  274  105  434]]\n",
      "              precision    recall  f1-score   support\n",
      "\n",
      "           0       0.23      0.09      0.13      1235\n",
      "           1       0.00      0.00      0.00       130\n",
      "           2       0.25      0.13      0.17      1304\n",
      "           3       0.32      0.49      0.38      2248\n",
      "           4       0.26      0.32      0.29      1499\n",
      "           5       0.30      0.24      0.27       990\n",
      "           6       0.26      0.28      0.27      1566\n",
      "\n",
      "    accuracy                           0.28      8972\n",
      "   macro avg       0.23      0.22      0.22      8972\n",
      "weighted avg       0.27      0.28      0.26      8972\n",
      "\n"
     ]
    },
    {
     "name": "stderr",
     "output_type": "stream",
     "text": [
      "/data/code/bsrikish/linalg/my_venv/lib/python3.7/site-packages/sklearn/neural_network/_multilayer_perceptron.py:617: ConvergenceWarning: Stochastic Optimizer: Maximum iterations (300) reached and the optimization hasn't converged yet.\n",
      "  % self.max_iter, ConvergenceWarning)\n"
     ]
    }
   ],
   "source": [
    "# multilayer perceptron on kernel pca representation\n",
    "mlp_kpca = MLPClassifier(random_state=seed, hidden_layer_sizes=(500), max_iter=300)\n",
    "mlp_kpca.fit(x_train_kpca, y_train)\n",
    "predictions_mlp_kpca = mlp_kpca.predict(x_test_kpca)\n",
    "\n",
    "print(confusion_matrix(y_test, predictions_mlp_kpca))\n",
    "print(classification_report(y_test, predictions_mlp_kpca, zero_division=0))"
   ]
  },
  {
   "cell_type": "markdown",
   "metadata": {},
   "source": [
    "### Random Forest Classifier"
   ]
  },
  {
   "cell_type": "code",
   "execution_count": 53,
   "metadata": {},
   "outputs": [
    {
     "name": "stdout",
     "output_type": "stream",
     "text": [
      "[[ 200    0   50  663  170   21  131]\n",
      " [   6   33    7   54   14    2   14]\n",
      " [  50    0  290  642  167   41  114]\n",
      " [  33    0   56 1855  156   20  128]\n",
      " [  57    0   70  820  360    8  184]\n",
      " [  26    0   52  345   61  424   82]\n",
      " [  44    0   61  862  187   15  397]]\n",
      "              precision    recall  f1-score   support\n",
      "\n",
      "           0       0.48      0.16      0.24      1235\n",
      "           1       1.00      0.25      0.40       130\n",
      "           2       0.49      0.22      0.31      1304\n",
      "           3       0.35      0.83      0.50      2248\n",
      "           4       0.32      0.24      0.28      1499\n",
      "           5       0.80      0.43      0.56       990\n",
      "           6       0.38      0.25      0.30      1566\n",
      "\n",
      "    accuracy                           0.40      8972\n",
      "   macro avg       0.55      0.34      0.37      8972\n",
      "weighted avg       0.45      0.40      0.37      8972\n",
      "\n"
     ]
    }
   ],
   "source": [
    "# random forest classifier on pca representation\n",
    "rfc_pca = RandomForestClassifier(random_state=seed)\n",
    "rfc_pca.fit(x_train_pca, y_train)\n",
    "predictions_rfc_pca = rfc_pca.predict(x_test_pca)\n",
    "\n",
    "print(confusion_matrix(y_test, predictions_rfc_pca))\n",
    "print(classification_report(y_test, predictions_rfc_pca, zero_division=0))"
   ]
  },
  {
   "cell_type": "code",
   "execution_count": 54,
   "metadata": {},
   "outputs": [
    {
     "name": "stdout",
     "output_type": "stream",
     "text": [
      "[[ 186    0   63  601  192   30  163]\n",
      " [   4   26   10   58   18    2   12]\n",
      " [  75    0  268  559  199   67  136]\n",
      " [  42    0   66 1788  175   32  145]\n",
      " [  57    0   71  711  440   17  203]\n",
      " [  32    0   58  326   56  451   67]\n",
      " [  57    0   64  784  207   23  431]]\n",
      "              precision    recall  f1-score   support\n",
      "\n",
      "           0       0.41      0.15      0.22      1235\n",
      "           1       1.00      0.20      0.33       130\n",
      "           2       0.45      0.21      0.28      1304\n",
      "           3       0.37      0.80      0.51      2248\n",
      "           4       0.34      0.29      0.32      1499\n",
      "           5       0.73      0.46      0.56       990\n",
      "           6       0.37      0.28      0.32      1566\n",
      "\n",
      "    accuracy                           0.40      8972\n",
      "   macro avg       0.52      0.34      0.36      8972\n",
      "weighted avg       0.43      0.40      0.37      8972\n",
      "\n"
     ]
    }
   ],
   "source": [
    "# random forest classifier on nmf representation\n",
    "rfc_nmf = RandomForestClassifier(random_state=seed)\n",
    "rfc_nmf.fit(x_train_nmf, y_train)\n",
    "predictions_rfc_nmf = rfc_nmf.predict(x_test_nmf)\n",
    "\n",
    "print(confusion_matrix(y_test, predictions_rfc_nmf))\n",
    "print(classification_report(y_test, predictions_rfc_nmf, zero_division=0))"
   ]
  },
  {
   "cell_type": "code",
   "execution_count": 55,
   "metadata": {},
   "outputs": [
    {
     "name": "stdout",
     "output_type": "stream",
     "text": [
      "[[ 302    0   81  475  178   52  147]\n",
      " [   9   44   10   37   14    8    8]\n",
      " [  81    1  374  465  181   81  121]\n",
      " [ 131    0  133 1368  251   94  271]\n",
      " [ 121    0   93  605  430   35  215]\n",
      " [  37    0   79  298   61  448   67]\n",
      " [ 110    0   92  664  217   65  418]]\n",
      "              precision    recall  f1-score   support\n",
      "\n",
      "           0       0.38      0.24      0.30      1235\n",
      "           1       0.98      0.34      0.50       130\n",
      "           2       0.43      0.29      0.35      1304\n",
      "           3       0.35      0.61      0.44      2248\n",
      "           4       0.32      0.29      0.30      1499\n",
      "           5       0.57      0.45      0.51       990\n",
      "           6       0.34      0.27      0.30      1566\n",
      "\n",
      "    accuracy                           0.38      8972\n",
      "   macro avg       0.48      0.35      0.39      8972\n",
      "weighted avg       0.39      0.38      0.37      8972\n",
      "\n"
     ]
    }
   ],
   "source": [
    "# random forest classifier on kernel pca representation\n",
    "rfc_kpca = RandomForestClassifier(random_state=seed)\n",
    "rfc_kpca.fit(x_train_kpca, y_train)\n",
    "predictions_rfc_kpca = rfc_kpca.predict(x_test_kpca)\n",
    "\n",
    "print(confusion_matrix(y_test, predictions_rfc_kpca))\n",
    "print(classification_report(y_test, predictions_rfc_kpca, zero_division=0))"
   ]
  },
  {
   "cell_type": "markdown",
   "metadata": {},
   "source": [
    "### K nearest neighbors Classifier"
   ]
  },
  {
   "cell_type": "code",
   "execution_count": 56,
   "metadata": {},
   "outputs": [
    {
     "name": "stdout",
     "output_type": "stream",
     "text": [
      "[[ 370   19  134  288  167   65  192]\n",
      " [  17   48    9   30   10    5   11]\n",
      " [ 167   26  378  281  169  100  183]\n",
      " [ 233   42  222 1065  201  114  371]\n",
      " [ 207   13  178  401  378   52  270]\n",
      " [ 105   19  118  183   79  368  118]\n",
      " [ 189   28  138  422  198   90  501]]\n",
      "              precision    recall  f1-score   support\n",
      "\n",
      "           0       0.29      0.30      0.29      1235\n",
      "           1       0.25      0.37      0.30       130\n",
      "           2       0.32      0.29      0.30      1304\n",
      "           3       0.40      0.47      0.43      2248\n",
      "           4       0.31      0.25      0.28      1499\n",
      "           5       0.46      0.37      0.41       990\n",
      "           6       0.30      0.32      0.31      1566\n",
      "\n",
      "    accuracy                           0.35      8972\n",
      "   macro avg       0.33      0.34      0.33      8972\n",
      "weighted avg       0.35      0.35      0.34      8972\n",
      "\n"
     ]
    }
   ],
   "source": [
    "# K nearest neighbors classifier on pca representation\n",
    "knc_pca = KNeighborsClassifier()\n",
    "knc_pca.fit(x_train_pca, y_train)\n",
    "predictions_knc_pca = knc_pca.predict(x_test_pca)\n",
    "\n",
    "print(confusion_matrix(y_test, predictions_knc_pca))\n",
    "print(classification_report(y_test, predictions_knc_pca, zero_division=0))"
   ]
  },
  {
   "cell_type": "code",
   "execution_count": 57,
   "metadata": {},
   "outputs": [
    {
     "name": "stdout",
     "output_type": "stream",
     "text": [
      "[[ 402   15  124  315  190   51  138]\n",
      " [  21   34    8   32   18    6   11]\n",
      " [ 243   19  294  336  207   70  135]\n",
      " [ 349   37  202 1028  290   83  259]\n",
      " [ 289   17  173  411  363   54  192]\n",
      " [ 143   11  132  240   99  259  106]\n",
      " [ 269   18  152  457  210   66  394]]\n",
      "              precision    recall  f1-score   support\n",
      "\n",
      "           0       0.23      0.33      0.27      1235\n",
      "           1       0.23      0.26      0.24       130\n",
      "           2       0.27      0.23      0.25      1304\n",
      "           3       0.36      0.46      0.41      2248\n",
      "           4       0.26      0.24      0.25      1499\n",
      "           5       0.44      0.26      0.33       990\n",
      "           6       0.32      0.25      0.28      1566\n",
      "\n",
      "    accuracy                           0.31      8972\n",
      "   macro avg       0.30      0.29      0.29      8972\n",
      "weighted avg       0.31      0.31      0.31      8972\n",
      "\n"
     ]
    }
   ],
   "source": [
    "# K nearest neighbors classifier on nmf representation\n",
    "knc_nmf = KNeighborsClassifier()\n",
    "knc_nmf.fit(x_train_nmf, y_train)\n",
    "predictions_knc_nmf = knc_nmf.predict(x_test_nmf)\n",
    "\n",
    "print(confusion_matrix(y_test, predictions_knc_nmf))\n",
    "print(classification_report(y_test, predictions_knc_nmf, zero_division=0))"
   ]
  },
  {
   "cell_type": "code",
   "execution_count": 58,
   "metadata": {},
   "outputs": [
    {
     "name": "stdout",
     "output_type": "stream",
     "text": [
      "[[381  10 159 323 153  88 121]\n",
      " [ 16  40  13  29  15  10   7]\n",
      " [235  19 361 315 158 109 107]\n",
      " [389  25 307 851 253 177 246]\n",
      " [279   9 201 436 334  83 157]\n",
      " [131  22 137 222  88 318  72]\n",
      " [265  16 192 480 211 129 273]]\n",
      "              precision    recall  f1-score   support\n",
      "\n",
      "           0       0.22      0.31      0.26      1235\n",
      "           1       0.28      0.31      0.30       130\n",
      "           2       0.26      0.28      0.27      1304\n",
      "           3       0.32      0.38      0.35      2248\n",
      "           4       0.28      0.22      0.25      1499\n",
      "           5       0.35      0.32      0.33       990\n",
      "           6       0.28      0.17      0.21      1566\n",
      "\n",
      "    accuracy                           0.29      8972\n",
      "   macro avg       0.28      0.28      0.28      8972\n",
      "weighted avg       0.29      0.29      0.28      8972\n",
      "\n"
     ]
    }
   ],
   "source": [
    "# K nearest neighbors classifier on kernel pca representation\n",
    "knc_kpca = KNeighborsClassifier()\n",
    "knc_kpca.fit(x_train_kpca, y_train)\n",
    "predictions_knc_kpca = knc_kpca.predict(x_test_kpca)\n",
    "\n",
    "print(confusion_matrix(y_test, predictions_knc_kpca))\n",
    "print(classification_report(y_test, predictions_knc_kpca, zero_division=0))"
   ]
  },
  {
   "cell_type": "markdown",
   "metadata": {},
   "source": [
    "### Save data and models"
   ]
  },
  {
   "cell_type": "code",
   "execution_count": 61,
   "metadata": {},
   "outputs": [],
   "source": [
    "# save data and representation methods\n",
    "# pickle.dump(x_train_sc, open('../data/processed/x_train_sc.pkl', 'wb'))\n",
    "# pickle.dump(x_test_sc, open('../data/processed/x_test_sc.pkl', 'wb'))\n",
    "# pickle.dump(y_test, open('../data/processed/y_test.pkl', 'wb'))\n",
    "# pickle.dump(pca, open('../data/processed/pca.pkl', 'wb'))\n",
    "# pickle.dump(x_train_pca, open('../data/processed/x_train_pca.pkl', 'wb'))\n",
    "# pickle.dump(x_test_pca, open('../data/processed/x_test_pca.pkl', 'wb'))\n",
    "# pickle.dump(nmf, open('../data/processed/nmf.pkl', 'wb'))\n",
    "# pickle.dump(x_train_nmf, open('../data/processed/x_train_nmf.pkl', 'wb'))\n",
    "# pickle.dump(x_test_nmf, open('../data/processed/x_test_nmf.pkl', 'wb'))\n",
    "# pickle.dump(kpca, open('../data/processed/kpca.pkl', 'wb'))\n",
    "# pickle.dump(x_train_kpca, open('../data/processed/x_train_kpca.pkl', 'wb'))\n",
    "# pickle.dump(x_test_kpca, open('../data/processed/x_test_kpca.pkl', 'wb'))\n",
    "# save classification models\n",
    "# pickle.dump(lrc_pca, open('../data/processed/lrc_pca.pkl', 'wb'))\n",
    "# pickle.dump(lrc_nmf, open('../data/processed/lrc_nmf.pkl', 'wb'))\n",
    "# pickle.dump(lrc_kpca, open('../data/processed/lrc_kpca.pkl', 'wb'))\n",
    "# pickle.dump(svc_pca, open('../data/processed/svc_pca.pkl', 'wb'))\n",
    "# pickle.dump(svc_nmf, open('../data/processed/svc_nmf.pkl', 'wb'))\n",
    "# pickle.dump(svc_kpca, open('../data/processed/svc_kpca.pkl', 'wb'))\n",
    "# pickle.dump(mlp_pca, open('../data/processed/mlp_pca.pkl', 'wb'))\n",
    "# pickle.dump(mlp_nmf, open('../data/processed/mlp_nmf.pkl', 'wb'))\n",
    "# pickle.dump(mlp_kpca, open('../data/processed/mlp_kpca.pkl', 'wb'))\n",
    "# pickle.dump(rfc_pca, open('../data/processed/rfc_pca.pkl', 'wb'))\n",
    "# pickle.dump(rfc_nmf, open('../data/processed/rfc_nmf.pkl', 'wb'))\n",
    "# pickle.dump(rfc_kpca, open('../data/processed/rfc_kpca.pkl', 'wb'))\n",
    "# pickle.dump(knc_pca, open('../data/processed/knc_pca.pkl', 'wb'))\n",
    "# pickle.dump(knc_nmf, open('../data/processed/knc_nmf.pkl', 'wb'))\n",
    "# pickle.dump(knc_kpca, open('../data/processed/knc_kpca.pkl', 'wb'))"
   ]
  },
  {
   "cell_type": "code",
   "execution_count": 72,
   "metadata": {},
   "outputs": [],
   "source": []
  },
  {
   "cell_type": "code",
   "execution_count": null,
   "metadata": {},
   "outputs": [],
   "source": []
  },
  {
   "cell_type": "code",
   "execution_count": null,
   "metadata": {},
   "outputs": [],
   "source": []
  }
 ],
 "metadata": {
  "kernelspec": {
   "display_name": "Python 3",
   "language": "python",
   "name": "python3"
  },
  "language_info": {
   "codemirror_mode": {
    "name": "ipython",
    "version": 3
   },
   "file_extension": ".py",
   "mimetype": "text/x-python",
   "name": "python",
   "nbconvert_exporter": "python",
   "pygments_lexer": "ipython3",
   "version": "3.7.4"
  }
 },
 "nbformat": 4,
 "nbformat_minor": 4
}
