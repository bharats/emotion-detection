{
 "cells": [
  {
   "cell_type": "markdown",
   "metadata": {
    "collapsed": true,
    "pycharm": {
     "name": "#%% md\n"
    }
   },
   "source": [
    "###  Dataset\n",
    "---\n",
    "We used this [face dataset](https://www.kaggle.com/c/challenges-in-representation-learning-facial-expression-recognition-challenge/data) which consists of 48x48 grayscale images of faces with labels in one of 7 categories: 0=Angry, 1=Disgust, 2=Fear, 3=Happy, 4=Sad, 5=Surprise, 6=Neutral.\n",
    "\n",
    "An example of a face in this dataset:\n",
    "<img src = Images/ExampleFace.jpg alt = \"Example Face\" width =200>\n"
   ]
  },
  {
   "cell_type": "code",
   "execution_count": 82,
   "metadata": {
    "pycharm": {
     "name": "#%%\n"
    }
   },
   "outputs": [],
   "source": [
    "#imports\n",
    "import numpy as np\n",
    "import pandas as pd\n",
    "from sklearn.model_selection import train_test_split\n",
    "from sklearn.preprocessing import StandardScaler, MinMaxScaler\n",
    "from sklearn.decomposition import PCA\n",
    "from sklearn.linear_model import LogisticRegression\n",
    "from sklearn.pipeline import Pipeline\n",
    "from sklearn.metrics import confusion_matrix, classification_report\n",
    "from sklearn.model_selection import GridSearchCV\n",
    "from PIL import Image\n",
    "import matplotlib.pyplot as plt"
   ]
  },
  {
   "cell_type": "code",
   "execution_count": 83,
   "metadata": {
    "pycharm": {
     "name": "#%%\n"
    }
   },
   "outputs": [
    {
     "name": "stdout",
     "output_type": "stream",
     "text": [
      "Training Components: 26915\n",
      "Test Components: 8972\n"
     ]
    }
   ],
   "source": [
    "# reading and cleaning data\n",
    "total = pd.read_csv('icml_face_data.csv')\n",
    "total = total.drop(columns = [' Usage'])\n",
    "\n",
    "total_y = total['emotion']\n",
    "total_x = total[' pixels'].str.split(' ',expand=True).astype(dtype = 'uint8')\n",
    "\n",
    "x_train, x_test, y_train, y_test  = train_test_split(total_x, total_y, test_size=0.25, random_state=42)\n",
    "\n",
    "print(\"Training Components: \"+ str(y_train.size))\n",
    "print(\"Test Components: \"+ str(y_test.size))"
   ]
  },
  {
   "cell_type": "code",
   "execution_count": 101,
   "metadata": {
    "pycharm": {
     "name": "#%%\n"
    }
   },
   "outputs": [],
   "source": [
    "# fitting data\n",
    "sc = MinMaxScaler()\n",
    "\n",
    "x_train_sc = sc.fit_transform(x_train)\n",
    "x_test_sc = sc.transform(x_test)\n"
   ]
  },
  {
   "cell_type": "markdown",
   "metadata": {
    "pycharm": {
     "name": "#%% md\n"
    }
   },
   "source": [
    "###  PCA"
   ]
  },
  {
   "cell_type": "code",
   "execution_count": 103,
   "metadata": {
    "pycharm": {
     "is_executing": true,
     "name": "#%%\n"
    }
   },
   "outputs": [],
   "source": [
    "# applying pca\n",
    "\n",
    "pca = PCA(n_components=255).fit(x_train_sc) #n_components = (255 explains 95%) (881 explains 99%)\n",
    "x_train_pca = pca.transform(x_train_sc)\n",
    "x_test_pca = pca.transform(x_test_sc)\n",
    "\n",
    "explained_variance = pca.explained_variance_ratio_\n"
   ]
  },
  {
   "cell_type": "code",
   "execution_count": 105,
   "metadata": {
    "pycharm": {
     "name": "#%%\n"
    }
   },
   "outputs": [
    {
     "name": "stdout",
     "output_type": "stream",
     "text": [
      "[[ 173    0   75  449  238  105  195]\n",
      " [  14    3   25   37   23    8   20]\n",
      " [ 107    0  166  417  232  174  208]\n",
      " [  93    0   89 1578  246   85  157]\n",
      " [ 124    0   95  465  445   78  292]\n",
      " [  32    0   78  221   89  467  103]\n",
      " [  75    0   74  519  281   92  525]]\n",
      "              precision    recall  f1-score   support\n",
      "\n",
      "           0       0.28      0.14      0.19      1235\n",
      "           1       1.00      0.02      0.05       130\n",
      "           2       0.28      0.13      0.17      1304\n",
      "           3       0.43      0.70      0.53      2248\n",
      "           4       0.29      0.30      0.29      1499\n",
      "           5       0.46      0.47      0.47       990\n",
      "           6       0.35      0.34      0.34      1566\n",
      "\n",
      "    accuracy                           0.37      8972\n",
      "   macro avg       0.44      0.30      0.29      8972\n",
      "weighted avg       0.36      0.37      0.34      8972\n",
      "\n"
     ]
    }
   ],
   "source": [
    "# logistic regression results\n",
    "\n",
    "lrc = LogisticRegression(C=0.01, penalty = 'l2', solver = 'saga', tol=0.0001, max_iter=800)\n",
    "\n",
    "pipe = Pipeline([('pca', pca), ('logistic', lrc)])\n",
    "pipe.fit(x_train_pca, y_train)\n",
    "predictions = pipe.predict(x_test_pca)\n",
    "\n",
    "\n",
    "print(confusion_matrix(y_test, lrc.predict(x_test_pca)))\n",
    "print(classification_report(y_test, lrc.predict(x_test_pca)))"
   ]
  },
  {
   "cell_type": "raw",
   "metadata": {},
   "source": []
  },
  {
   "cell_type": "code",
   "execution_count": null,
   "metadata": {},
   "outputs": [],
   "source": []
  }
 ],
 "metadata": {
  "kernelspec": {
   "display_name": "Python 3",
   "language": "python",
   "name": "python3"
  },
  "language_info": {
   "codemirror_mode": {
    "name": "ipython",
    "version": 3
   },
   "file_extension": ".py",
   "mimetype": "text/x-python",
   "name": "python",
   "nbconvert_exporter": "python",
   "pygments_lexer": "ipython3",
   "version": "3.7.3"
  }
 },
 "nbformat": 4,
 "nbformat_minor": 1
}
