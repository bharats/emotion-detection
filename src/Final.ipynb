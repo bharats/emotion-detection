{
 "cells": [
  {
   "cell_type": "markdown",
   "metadata": {
    "pycharm": {
     "name": "#%% md\n"
    }
   },
   "source": [
    "###  Dataset\n",
    "---\n",
    "We used this [face dataset](https://www.kaggle.com/c/challenges-in-representation-learning-facial-expression-recognition-challenge/data) which consists of 48x48 grayscale images of faces with labels in one of 7 categories: 0=Angry, 1=Disgust, 2=Fear, 3=Happy, 4=Sad, 5=Surprise, 6=Neutral.\n",
    "\n",
    "An example of a face in this dataset:\n",
    "<img src = Images/ExampleFace.jpg alt = \"Example Face\" width =200>\n"
   ]
  },
  {
   "cell_type": "code",
   "execution_count": 21,
   "metadata": {
    "pycharm": {
     "name": "#%%\n"
    }
   },
   "outputs": [],
   "source": [
    "#imports\n",
    "import random\n",
    "import numpy as np\n",
    "import pandas as pd\n",
    "from sklearn.model_selection import train_test_split\n",
    "from sklearn.preprocessing import StandardScaler, MinMaxScaler\n",
    "from sklearn.decomposition import PCA, NMF, KernelPCA\n",
    "from sklearn.linear_model import LogisticRegression\n",
    "from sklearn.pipeline import Pipeline\n",
    "from sklearn.metrics import confusion_matrix, classification_report\n",
    "from sklearn.model_selection import GridSearchCV\n",
    "from sklearn.svm import LinearSVC\n",
    "from sklearn.neural_network import MLPClassifier\n",
    "from sklearn.ensemble import RandomForestClassifier\n",
    "from sklearn.neighbors import KNeighborsClassifier\n",
    "from PIL import Image\n",
    "import matplotlib.pyplot as plt"
   ]
  },
  {
   "cell_type": "code",
   "execution_count": 2,
   "metadata": {},
   "outputs": [],
   "source": [
    "# fix random seed for reproducibility\n",
    "seed = 42\n",
    "random.seed(seed)\n",
    "np.random.seed(seed)"
   ]
  },
  {
   "cell_type": "code",
   "execution_count": 3,
   "metadata": {
    "pycharm": {
     "name": "#%%\n"
    }
   },
   "outputs": [
    {
     "name": "stdout",
     "output_type": "stream",
     "text": [
      "Training Components: 26915\n",
      "Test Components: 8972\n"
     ]
    }
   ],
   "source": [
    "# reading and cleaning data\n",
    "total = pd.read_csv('../data/raw/icml_face_data.csv')\n",
    "total = total.drop(columns = [' Usage'])\n",
    "\n",
    "total_y = total['emotion']\n",
    "total_x = total[' pixels'].str.split(' ',expand=True).astype(dtype = 'uint8')\n",
    "\n",
    "x_train, x_test, y_train, y_test  = train_test_split(total_x, total_y, test_size=0.25, random_state=42)\n",
    "\n",
    "print(\"Training Components: \"+ str(y_train.size))\n",
    "print(\"Test Components: \"+ str(y_test.size))"
   ]
  },
  {
   "cell_type": "code",
   "execution_count": 4,
   "metadata": {
    "pycharm": {
     "name": "#%%\n"
    }
   },
   "outputs": [],
   "source": [
    "# fitting data\n",
    "sc = MinMaxScaler()\n",
    "\n",
    "x_train_sc = sc.fit_transform(x_train)\n",
    "x_test_sc = sc.transform(x_test)\n"
   ]
  },
  {
   "cell_type": "markdown",
   "metadata": {
    "pycharm": {
     "name": "#%% md\n"
    }
   },
   "source": [
    "###  PCA"
   ]
  },
  {
   "cell_type": "code",
   "execution_count": 5,
   "metadata": {
    "pycharm": {
     "is_executing": true,
     "name": "#%%\n"
    }
   },
   "outputs": [],
   "source": [
    "# applying pca\n",
    "\n",
    "pca = PCA(n_components=255).fit(x_train_sc) #n_components = (255 explains 95%) (881 explains 99%)\n",
    "x_train_pca = pca.transform(x_train_sc)\n",
    "x_test_pca = pca.transform(x_test_sc)\n",
    "\n",
    "explained_variance = pca.explained_variance_ratio_"
   ]
  },
  {
   "cell_type": "markdown",
   "metadata": {},
   "source": [
    "### NMF"
   ]
  },
  {
   "cell_type": "code",
   "execution_count": 15,
   "metadata": {},
   "outputs": [
    {
     "name": "stderr",
     "output_type": "stream",
     "text": [
      "/data/code/bsrikish/linalg/my_venv/lib/python3.7/site-packages/sklearn/decomposition/_nmf.py:1091: ConvergenceWarning: Maximum number of iterations 10 reached. Increase it to improve convergence.\n",
      "  \" improve convergence.\" % max_iter, ConvergenceWarning)\n",
      "/data/code/bsrikish/linalg/my_venv/lib/python3.7/site-packages/sklearn/decomposition/_nmf.py:1091: ConvergenceWarning: Maximum number of iterations 10 reached. Increase it to improve convergence.\n",
      "  \" improve convergence.\" % max_iter, ConvergenceWarning)\n"
     ]
    }
   ],
   "source": [
    "# apply nmf\n",
    "nmf = NMF(n_components=255, init='nndsvd', random_state=seed)\n",
    "x_train_nmf = nmf.fit_transform(x_train_sc)\n",
    "x_test_nmf = nmf.transform(x_test_sc)\n",
    "H = nmf.components_"
   ]
  },
  {
   "cell_type": "markdown",
   "metadata": {},
   "source": [
    "### Kernel PCA"
   ]
  },
  {
   "cell_type": "code",
   "execution_count": 25,
   "metadata": {},
   "outputs": [],
   "source": [
    "kpca = KernelPCA(n_components=7, kernel='rbf', random_state=seed)\n",
    "x_train_kpca = kpca.fit_transform(x_train_sc)\n",
    "x_test_kpca = kpca.transform(x_test_sc)"
   ]
  },
  {
   "cell_type": "markdown",
   "metadata": {},
   "source": [
    "### Logistic Regression Results"
   ]
  },
  {
   "cell_type": "code",
   "execution_count": 9,
   "metadata": {
    "pycharm": {
     "name": "#%%\n"
    }
   },
   "outputs": [
    {
     "name": "stdout",
     "output_type": "stream",
     "text": [
      "[[ 193    4  105  411  247   80  195]\n",
      " [  16    6   27   37   18    9   17]\n",
      " [ 116    3  187  401  221  175  201]\n",
      " [ 106    1   93 1543  240  102  163]\n",
      " [ 149    2  109  448  428   80  283]\n",
      " [  38    2  112  212   74  446  106]\n",
      " [  89    2   86  482  271  109  527]]\n",
      "              precision    recall  f1-score   support\n",
      "\n",
      "           0       0.27      0.16      0.20      1235\n",
      "           1       0.30      0.05      0.08       130\n",
      "           2       0.26      0.14      0.18      1304\n",
      "           3       0.44      0.69      0.53      2248\n",
      "           4       0.29      0.29      0.29      1499\n",
      "           5       0.45      0.45      0.45       990\n",
      "           6       0.35      0.34      0.34      1566\n",
      "\n",
      "    accuracy                           0.37      8972\n",
      "   macro avg       0.34      0.30      0.30      8972\n",
      "weighted avg       0.35      0.37      0.35      8972\n",
      "\n"
     ]
    }
   ],
   "source": [
    "# logistic regression on pca representation\n",
    "lrc = LogisticRegression(C=1.0, penalty = 'l2', solver = 'saga', tol=0.0001, max_iter=800, random_state=seed)\n",
    "lrc.fit(x_train_pca, y_train)\n",
    "predictions = lrc.predict(x_test_pca)\n",
    "\n",
    "print(confusion_matrix(y_test, predictions))\n",
    "print(classification_report(y_test, predictions, zero_division=0))"
   ]
  },
  {
   "cell_type": "code",
   "execution_count": null,
   "metadata": {},
   "outputs": [],
   "source": [
    "# logistic regression on nmf representation\n",
    "lrc = LogisticRegression(C=0.01, penalty = 'l2', solver = 'saga', tol=0.0001, max_iter=800, random_state=seed)\n",
    "lrc.fit(x_train_nmf, y_train)\n",
    "predictions = lrc.predict(x_test_nmf)\n",
    "\n",
    "print(confusion_matrix(y_test, predictions))\n",
    "print(classification_report(y_test, predictions, zero_division=0))"
   ]
  },
  {
   "cell_type": "code",
   "execution_count": 26,
   "metadata": {},
   "outputs": [
    {
     "name": "stdout",
     "output_type": "stream",
     "text": [
      "[[   0    0    0 1229    6    0    0]\n",
      " [   0    0    0  129    1    0    0]\n",
      " [   0    0    0 1301    3    0    0]\n",
      " [   0    0    0 2245    3    0    0]\n",
      " [   0    0    0 1493    6    0    0]\n",
      " [   0    0    0  989    1    0    0]\n",
      " [   0    0    0 1563    3    0    0]]\n",
      "              precision    recall  f1-score   support\n",
      "\n",
      "           0       0.00      0.00      0.00      1235\n",
      "           1       0.00      0.00      0.00       130\n",
      "           2       0.00      0.00      0.00      1304\n",
      "           3       0.25      1.00      0.40      2248\n",
      "           4       0.26      0.00      0.01      1499\n",
      "           5       0.00      0.00      0.00       990\n",
      "           6       0.00      0.00      0.00      1566\n",
      "\n",
      "    accuracy                           0.25      8972\n",
      "   macro avg       0.07      0.14      0.06      8972\n",
      "weighted avg       0.11      0.25      0.10      8972\n",
      "\n"
     ]
    }
   ],
   "source": [
    "# logistic regression on kernel pca representation\n",
    "lrc = LogisticRegression(C=0.01, penalty = 'l2', solver = 'saga', tol=0.0001, max_iter=800, random_state=seed)\n",
    "lrc.fit(x_train_kpca, y_train)\n",
    "predictions = lrc.predict(x_test_kpca)\n",
    "\n",
    "print(confusion_matrix(y_test, predictions))\n",
    "print(classification_report(y_test, predictions, zero_division=0))"
   ]
  },
  {
   "cell_type": "markdown",
   "metadata": {},
   "source": [
    "### Support Vector Machine Classifier Results"
   ]
  },
  {
   "cell_type": "code",
   "execution_count": 24,
   "metadata": {},
   "outputs": [
    {
     "name": "stdout",
     "output_type": "stream",
     "text": [
      "[[ 132    0   56  533  184  134  196]\n",
      " [  12    0   19   54   11   15   19]\n",
      " [  79    0  109  492  185  226  213]\n",
      " [  64    0   46 1696  183  116  143]\n",
      " [  95    0   56  577  342  122  307]\n",
      " [  18    0   54  247   72  501   98]\n",
      " [  61    0   41  593  210  155  506]]\n",
      "              precision    recall  f1-score   support\n",
      "\n",
      "           0       0.29      0.11      0.16      1235\n",
      "           1       0.00      0.00      0.00       130\n",
      "           2       0.29      0.08      0.13      1304\n",
      "           3       0.40      0.75      0.53      2248\n",
      "           4       0.29      0.23      0.25      1499\n",
      "           5       0.39      0.51      0.44       990\n",
      "           6       0.34      0.32      0.33      1566\n",
      "\n",
      "    accuracy                           0.37      8972\n",
      "   macro avg       0.29      0.29      0.26      8972\n",
      "weighted avg       0.33      0.37      0.32      8972\n",
      "\n"
     ]
    },
    {
     "name": "stderr",
     "output_type": "stream",
     "text": [
      "/data/code/bsrikish/linalg/my_venv/lib/python3.7/site-packages/sklearn/svm/_base.py:986: ConvergenceWarning: Liblinear failed to converge, increase the number of iterations.\n",
      "  \"the number of iterations.\", ConvergenceWarning)\n"
     ]
    }
   ],
   "source": [
    "svc = LinearSVC(random_state=seed)\n",
    "svc.fit(x_train_pca, y_train)\n",
    "predictions = svc.predict(x_test_pca)\n",
    "\n",
    "print(confusion_matrix(y_test, predictions))\n",
    "print(classification_report(y_test, predictions, zero_division=0))"
   ]
  },
  {
   "cell_type": "code",
   "execution_count": null,
   "metadata": {},
   "outputs": [],
   "source": [
    "svc = LinearSVC(random_state=seed)\n",
    "svc.fit(x_train_nmf, y_train)\n",
    "predictions = svc.predict(x_test_nmf)\n",
    "\n",
    "print(confusion_matrix(y_test, predictions))\n",
    "print(classification_report(y_test, predictions, zero_division=0))"
   ]
  },
  {
   "cell_type": "code",
   "execution_count": null,
   "metadata": {},
   "outputs": [],
   "source": [
    "svc = LinearSVC(random_state=seed)\n",
    "svc.fit(x_train_kpca, y_train)\n",
    "predictions = svc.predict(x_test_kpca)\n",
    "\n",
    "print(confusion_matrix(y_test, predictions))\n",
    "print(classification_report(y_test, predictions, zero_division=0))"
   ]
  },
  {
   "cell_type": "markdown",
   "metadata": {},
   "source": [
    "### MLP Results"
   ]
  },
  {
   "cell_type": "code",
   "execution_count": 16,
   "metadata": {},
   "outputs": [
    {
     "name": "stdout",
     "output_type": "stream",
     "text": [
      "[[ 371   24  184  178  224   80  174]\n",
      " [  13   43   15   13   20    6   20]\n",
      " [ 178   17  376  186  235  133  179]\n",
      " [ 213   22  204 1164  254  113  278]\n",
      " [ 221   16  242  256  447   81  236]\n",
      " [  65   16  127   92   69  534   87]\n",
      " [ 196   20  171  293  289  109  488]]\n",
      "              precision    recall  f1-score   support\n",
      "\n",
      "           0       0.30      0.30      0.30      1235\n",
      "           1       0.27      0.33      0.30       130\n",
      "           2       0.29      0.29      0.29      1304\n",
      "           3       0.53      0.52      0.53      2248\n",
      "           4       0.29      0.30      0.29      1499\n",
      "           5       0.51      0.54      0.52       990\n",
      "           6       0.33      0.31      0.32      1566\n",
      "\n",
      "    accuracy                           0.38      8972\n",
      "   macro avg       0.36      0.37      0.36      8972\n",
      "weighted avg       0.38      0.38      0.38      8972\n",
      "\n"
     ]
    },
    {
     "name": "stderr",
     "output_type": "stream",
     "text": [
      "/data/code/bsrikish/linalg/my_venv/lib/python3.7/site-packages/sklearn/neural_network/_multilayer_perceptron.py:617: ConvergenceWarning: Stochastic Optimizer: Maximum iterations (300) reached and the optimization hasn't converged yet.\n",
      "  % self.max_iter, ConvergenceWarning)\n"
     ]
    }
   ],
   "source": [
    "mlp = MLPClassifier(random_state=seed, max_iter=300)\n",
    "mlp.fit(x_train_pca, y_train)\n",
    "predictions = mlp.predict(x_test_pca)\n",
    "\n",
    "print(confusion_matrix(y_test, predictions))\n",
    "print(classification_report(y_test, predictions, zero_division=0))"
   ]
  },
  {
   "cell_type": "code",
   "execution_count": null,
   "metadata": {},
   "outputs": [],
   "source": [
    "mlp = MLPClassifier(random_state=seed, max_iter=300)\n",
    "mlp.fit(x_train_nmf, y_train)\n",
    "predictions = mlp.predict(x_test_nmf)\n",
    "\n",
    "print(confusion_matrix(y_test, predictions))\n",
    "print(classification_report(y_test, predictions, zero_division=0))"
   ]
  },
  {
   "cell_type": "code",
   "execution_count": null,
   "metadata": {},
   "outputs": [],
   "source": [
    "mlp = MLPClassifier(random_state=seed, max_iter=300)\n",
    "mlp.fit(x_train_kpca, y_train)\n",
    "predictions = mlp.predict(x_test_kpca)\n",
    "\n",
    "print(confusion_matrix(y_test, predictions))\n",
    "print(classification_report(y_test, predictions, zero_division=0))"
   ]
  },
  {
   "cell_type": "markdown",
   "metadata": {},
   "source": [
    "### Random Forest Classifier"
   ]
  },
  {
   "cell_type": "code",
   "execution_count": 20,
   "metadata": {},
   "outputs": [
    {
     "name": "stdout",
     "output_type": "stream",
     "text": [
      "[[ 200    0   50  663  170   21  131]\n",
      " [   6   33    7   54   14    2   14]\n",
      " [  50    0  290  642  167   41  114]\n",
      " [  33    0   56 1855  156   20  128]\n",
      " [  57    0   70  820  360    8  184]\n",
      " [  26    0   52  345   61  424   82]\n",
      " [  44    0   61  862  187   15  397]]\n",
      "              precision    recall  f1-score   support\n",
      "\n",
      "           0       0.48      0.16      0.24      1235\n",
      "           1       1.00      0.25      0.40       130\n",
      "           2       0.49      0.22      0.31      1304\n",
      "           3       0.35      0.83      0.50      2248\n",
      "           4       0.32      0.24      0.28      1499\n",
      "           5       0.80      0.43      0.56       990\n",
      "           6       0.38      0.25      0.30      1566\n",
      "\n",
      "    accuracy                           0.40      8972\n",
      "   macro avg       0.55      0.34      0.37      8972\n",
      "weighted avg       0.45      0.40      0.37      8972\n",
      "\n"
     ]
    }
   ],
   "source": [
    "rfc = RandomForestClassifier(random_state=seed)\n",
    "rfc.fit(x_train_pca, y_train)\n",
    "predictions = rfc.predict(x_test_pca)\n",
    "\n",
    "print(confusion_matrix(y_test, predictions))\n",
    "print(classification_report(y_test, predictions, zero_division=0))"
   ]
  },
  {
   "cell_type": "code",
   "execution_count": null,
   "metadata": {},
   "outputs": [],
   "source": [
    "rfc = RandomForestClassifier(random_state=seed)\n",
    "rfc.fit(x_train_nmf, y_train)\n",
    "predictions = rfc.predict(x_test_nmf)\n",
    "\n",
    "print(confusion_matrix(y_test, predictions))\n",
    "print(classification_report(y_test, predictions, zero_division=0))"
   ]
  },
  {
   "cell_type": "code",
   "execution_count": null,
   "metadata": {},
   "outputs": [],
   "source": [
    "rfc = RandomForestClassifier(random_state=seed)\n",
    "rfc.fit(x_train_kpca, y_train)\n",
    "predictions = rfc.predict(x_test_kpca)\n",
    "\n",
    "print(confusion_matrix(y_test, predictions))\n",
    "print(classification_report(y_test, predictions, zero_division=0))"
   ]
  },
  {
   "cell_type": "markdown",
   "metadata": {},
   "source": [
    "### K nearest neighbors Classifier"
   ]
  },
  {
   "cell_type": "code",
   "execution_count": 23,
   "metadata": {},
   "outputs": [
    {
     "name": "stdout",
     "output_type": "stream",
     "text": [
      "[[ 370   19  134  288  167   65  192]\n",
      " [  17   48    9   30   10    5   11]\n",
      " [ 167   26  378  281  169  100  183]\n",
      " [ 233   42  222 1065  201  114  371]\n",
      " [ 207   13  178  401  378   52  270]\n",
      " [ 105   19  118  183   79  368  118]\n",
      " [ 189   28  138  422  198   90  501]]\n",
      "              precision    recall  f1-score   support\n",
      "\n",
      "           0       0.29      0.30      0.29      1235\n",
      "           1       0.25      0.37      0.30       130\n",
      "           2       0.32      0.29      0.30      1304\n",
      "           3       0.40      0.47      0.43      2248\n",
      "           4       0.31      0.25      0.28      1499\n",
      "           5       0.46      0.37      0.41       990\n",
      "           6       0.30      0.32      0.31      1566\n",
      "\n",
      "    accuracy                           0.35      8972\n",
      "   macro avg       0.33      0.34      0.33      8972\n",
      "weighted avg       0.35      0.35      0.34      8972\n",
      "\n"
     ]
    }
   ],
   "source": [
    "knc = KNeighborsClassifier()\n",
    "knc.fit(x_train_pca, y_train)\n",
    "predictions = knc.predict(x_test_pca)\n",
    "\n",
    "print(confusion_matrix(y_test, predictions))\n",
    "print(classification_report(y_test, predictions, zero_division=0))"
   ]
  },
  {
   "cell_type": "code",
   "execution_count": null,
   "metadata": {},
   "outputs": [],
   "source": [
    "knc = KNeighborsClassifier()\n",
    "knc.fit(x_train_nmf, y_train)\n",
    "predictions = knc.predict(x_test_nmf)\n",
    "\n",
    "print(confusion_matrix(y_test, predictions))\n",
    "print(classification_report(y_test, predictions, zero_division=0))"
   ]
  },
  {
   "cell_type": "code",
   "execution_count": null,
   "metadata": {},
   "outputs": [],
   "source": [
    "knc = KNeighborsClassifier()\n",
    "knc.fit(x_train_kpca, y_train)\n",
    "predictions = knc.predict(x_test_kpca)\n",
    "\n",
    "print(confusion_matrix(y_test, predictions))\n",
    "print(classification_report(y_test, predictions, zero_division=0))"
   ]
  }
 ],
 "metadata": {
  "kernelspec": {
   "display_name": "Python 3",
   "language": "python",
   "name": "python3"
  },
  "language_info": {
   "codemirror_mode": {
    "name": "ipython",
    "version": 3
   },
   "file_extension": ".py",
   "mimetype": "text/x-python",
   "name": "python",
   "nbconvert_exporter": "python",
   "pygments_lexer": "ipython3",
   "version": "3.8.3"
  }
 },
 "nbformat": 4,
 "nbformat_minor": 4
}
